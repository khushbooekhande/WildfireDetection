{
  "nbformat": 4,
  "nbformat_minor": 0,
  "metadata": {
    "kernelspec": {
      "display_name": "Python 3",
      "language": "python",
      "name": "python3"
    },
    "language_info": {
      "codemirror_mode": {
        "name": "ipython",
        "version": 3
      },
      "file_extension": ".py",
      "mimetype": "text/x-python",
      "name": "python",
      "nbconvert_exporter": "python",
      "pygments_lexer": "ipython3",
      "version": "3.7.3"
    },
    "colab": {
      "name": "DecisionTree.ipynb",
      "provenance": [],
      "include_colab_link": true
    }
  },
  "cells": [
    {
      "cell_type": "markdown",
      "metadata": {
        "id": "view-in-github",
        "colab_type": "text"
      },
      "source": [
        "<a href=\"https://colab.research.google.com/github/khushbooekhande/WildfireDetectionUsingMachineLearning/blob/master/DecisionTree.ipynb\" target=\"_parent\"><img src=\"https://colab.research.google.com/assets/colab-badge.svg\" alt=\"Open In Colab\"/></a>"
      ]
    },
    {
      "cell_type": "code",
      "metadata": {
        "id": "sYdvNGe4A_nH",
        "colab_type": "code",
        "colab": {}
      },
      "source": [
        "import numpy as np\n",
        "import pandas as pd\n",
        "import matplotlib.pyplot as plt\n",
        "import seaborn as sns\n",
        "from sklearn import datasets\n",
        "from sklearn.model_selection import train_test_split\n",
        "from sklearn.ensemble import RandomForestRegressor\n",
        "from sklearn.metrics import mean_squared_error\n",
        "from sklearn.tree import DecisionTreeRegressor\n",
        "import statsmodels.stats.api as sm\n",
        "\n",
        "import math\n",
        "import pickle\n",
        "\n",
        "from sklearn.externals import joblib "
      ],
      "execution_count": 0,
      "outputs": []
    },
    {
      "cell_type": "code",
      "metadata": {
        "id": "RzaP3Z3lA_nM",
        "colab_type": "code",
        "colab": {}
      },
      "source": [
        "data = pd.read_csv(\"weatherData.csv\") \n",
        "\n",
        "# print(data.head())\n",
        "\n",
        "data['burned'] = [i*43560 for i in data['burned']]\n",
        "\n",
        "#Solves Data outlier problem\n",
        "data['burned'] = [i if i < np.mean(data['burned']) else np.mean(data['burned'])  for i in data['burned']]\n",
        "data['burned'] = [i if i > 0 else np.mean(data['burned'])  for i in data['burned']]\n",
        "\n",
        "data['cause'] = [i if i else 1 for i in data['cause']]\n",
        "data['cause'] = [i[0] for i in data['cause']]\n",
        "data['intensity'] = [i if i else 0 for i in data['intensity']]\n",
        "data['intensity'] = [i[0] for i in data['intensity']]\n",
        "\n",
        "data['cause'] = data['cause'].astype(float)\n",
        "data['intensity'] = data['intensity'].astype(float)\n",
        "\n",
        "\n",
        "X_train, X_test, y_train, y_test = train_test_split(data.iloc[:, data.columns != 'intensity'], data['intensity'], test_size=0.2,  random_state=42)\n",
        "\n",
        "# print(y_test)\n"
      ],
      "execution_count": 0,
      "outputs": []
    },
    {
      "cell_type": "code",
      "metadata": {
        "id": "urDBJVH3A_nP",
        "colab_type": "code",
        "colab": {}
      },
      "source": [
        "# train_features, test_features, train_labels, test_labels = train_test_split(df_X, df_Y, test_size = 0.2)"
      ],
      "execution_count": 0,
      "outputs": []
    },
    {
      "cell_type": "code",
      "metadata": {
        "id": "IwQGYEjEA_nR",
        "colab_type": "code",
        "colab": {},
        "outputId": "17dc66f4-8d22-468d-a29b-c5d8672fcb21"
      },
      "source": [
        "print('Training Features Shape:', X_train.shape)\n",
        "print('Training Labels Shape:', y_train.shape)\n",
        "print('Testing Features Shape:', X_test.shape)\n",
        "print('Testing Labels Shape:', y_test.shape)"
      ],
      "execution_count": 0,
      "outputs": [
        {
          "output_type": "stream",
          "text": [
            "Training Features Shape: (8368, 3)\n",
            "Training Labels Shape: (8368,)\n",
            "Testing Features Shape: (2092, 3)\n",
            "Testing Labels Shape: (2092,)\n"
          ],
          "name": "stdout"
        }
      ]
    },
    {
      "cell_type": "code",
      "metadata": {
        "id": "zSSEOcaqA_nV",
        "colab_type": "code",
        "colab": {},
        "outputId": "54eab8e6-daea-4744-8153-3d11af45764a"
      },
      "source": [
        "\n",
        "dsr = DecisionTreeRegressor(random_state=42,  min_samples_leaf=6, criterion='mae')\n",
        "dsr.fit(X_train, y_train);\n",
        "\n",
        "# Save the model as a pickle in a file \n",
        "joblib.dump(dsr, 'decisionTree.pkl') \n",
        "\n"
      ],
      "execution_count": 0,
      "outputs": [
        {
          "output_type": "execute_result",
          "data": {
            "text/plain": [
              "['decisionTree.pkl']"
            ]
          },
          "metadata": {
            "tags": []
          },
          "execution_count": 29
        }
      ]
    },
    {
      "cell_type": "code",
      "metadata": {
        "id": "LzpSCxjNA_nZ",
        "colab_type": "code",
        "colab": {}
      },
      "source": [
        "\n",
        "dt_predictions = dsr.predict(X_test)\n",
        "\n",
        "\n",
        "# Calculate the absolute errors\n",
        "dt_errors = abs(dt_predictions.round() - y_test)"
      ],
      "execution_count": 0,
      "outputs": []
    },
    {
      "cell_type": "code",
      "metadata": {
        "id": "tUntGKVEA_nf",
        "colab_type": "code",
        "colab": {},
        "outputId": "e17aedb4-4366-4999-9e81-7d860cfb0ea6"
      },
      "source": [
        "\n",
        "mapd = 100 *(np.mean(dt_errors))/(2*np.mean(y_test))\n",
        "\n",
        "accuracy_d = 100 - np.mean(mapd)\n",
        "\n",
        "print('Accuracy Decision Tree:', round(accuracy_d, 2), '%.')"
      ],
      "execution_count": 0,
      "outputs": [
        {
          "output_type": "stream",
          "text": [
            "Accuracy Decision Tree: 83.0 %.\n"
          ],
          "name": "stdout"
        }
      ]
    }
  ]
}