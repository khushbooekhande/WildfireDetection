{
  "nbformat": 4,
  "nbformat_minor": 0,
  "metadata": {
    "kernelspec": {
      "display_name": "Python 3",
      "language": "python",
      "name": "python3"
    },
    "language_info": {
      "codemirror_mode": {
        "name": "ipython",
        "version": 3
      },
      "file_extension": ".py",
      "mimetype": "text/x-python",
      "name": "python",
      "nbconvert_exporter": "python",
      "pygments_lexer": "ipython3",
      "version": "3.7.3"
    },
    "colab": {
      "name": "RandomForest.ipynb",
      "provenance": [],
      "include_colab_link": true
    }
  },
  "cells": [
    {
      "cell_type": "markdown",
      "metadata": {
        "id": "view-in-github",
        "colab_type": "text"
      },
      "source": [
        "<a href=\"https://colab.research.google.com/github/khushbooekhande/WildfireDetectionUsingMachineLearning/blob/master/RandomForest.ipynb\" target=\"_parent\"><img src=\"https://colab.research.google.com/assets/colab-badge.svg\" alt=\"Open In Colab\"/></a>"
      ]
    },
    {
      "cell_type": "code",
      "metadata": {
        "id": "AYvDldsBBU0M",
        "colab_type": "code",
        "outputId": "00f0e76a-322b-41f4-e8ca-18a38fae6b49",
        "colab": {}
      },
      "source": [
        "import numpy as np\n",
        "import pandas as pd\n",
        "import matplotlib.pyplot as plt\n",
        "import seaborn as sns\n",
        "from sklearn import datasets\n",
        "from sklearn.model_selection import train_test_split\n",
        "from sklearn.ensemble import RandomForestRegressor\n",
        "from sklearn.metrics import mean_squared_error\n",
        "from sklearn.tree import DecisionTreeRegressor\n",
        "import statsmodels.stats.api as sm\n",
        "\n",
        "import math\n",
        "\n",
        "import pickle\n",
        "\n",
        "from sklearn.externals import joblib \n",
        "\n"
      ],
      "execution_count": 0,
      "outputs": [
        {
          "output_type": "stream",
          "text": [
            "C:\\ProgramData\\Anaconda3\\lib\\site-packages\\sklearn\\externals\\joblib\\__init__.py:15: DeprecationWarning: sklearn.externals.joblib is deprecated in 0.21 and will be removed in 0.23. Please import this functionality directly from joblib, which can be installed with: pip install joblib. If this warning is raised when loading pickled models, you may need to re-serialize those models with scikit-learn 0.21+.\n",
            "  warnings.warn(msg, category=DeprecationWarning)\n"
          ],
          "name": "stderr"
        }
      ]
    },
    {
      "cell_type": "code",
      "metadata": {
        "scrolled": true,
        "id": "jiNFlP9VBU0Y",
        "colab_type": "code",
        "outputId": "e4e7e383-e9ab-4e0f-df37-8f91ed1c9259",
        "colab": {}
      },
      "source": [
        "data = pd.read_csv(\"weatherData.csv\") \n",
        "\n",
        "# print(data.head())\n",
        "\n",
        "data['burned'] = [i*43560 for i in data['burned']]\n",
        "\n",
        "#Solves Data outlier problem\n",
        "data['burned'] = [i if i < np.mean(data['burned']) else np.mean(data['burned'])  for i in data['burned']]\n",
        "data['burned'] = [i if i > 0 else np.mean(data['burned'])  for i in data['burned']]\n",
        "\n",
        "data['cause'] = [i if i else 1 for i in data['cause']]\n",
        "data['cause'] = [i[0] for i in data['cause']]\n",
        "data['intensity'] = [i if i else 0 for i in data['intensity']]\n",
        "data['intensity'] = [i[0] for i in data['intensity']]\n",
        "\n",
        "data['cause'] = data['cause'].astype(float)\n",
        "data['intensity'] = data['intensity'].astype(float)\n",
        "\n",
        "\n",
        "X_train, X_test, y_train, y_test = train_test_split(data.iloc[:, data.columns != 'intensity'], data['intensity'], test_size=0.2,  random_state=42)\n",
        "\n",
        "print(X_test)\n",
        "print(X_test.shape)\n",
        "\n"
      ],
      "execution_count": 0,
      "outputs": [
        {
          "output_type": "stream",
          "text": [
            "          burned  wind_speed  cause\n",
            "7529      4356.0           3    2.0\n",
            "7407      4356.0           3    2.0\n",
            "2474      4356.0           5    2.0\n",
            "1418      4356.0           3    8.0\n",
            "2150      4356.0           4    2.0\n",
            "4755      4356.0           3    4.0\n",
            "761       4356.0           3    1.0\n",
            "1950      4356.0           5    9.0\n",
            "10215     4356.0           3    7.0\n",
            "2870      4356.0           3    4.0\n",
            "4614      4356.0           3    2.0\n",
            "2588     43560.0           3    9.0\n",
            "2515      4356.0           3    9.0\n",
            "7753      4356.0           3    7.0\n",
            "518       4356.0           3    1.0\n",
            "3014     10890.0           3    2.0\n",
            "3944      4356.0           3    1.0\n",
            "9801    653400.0           9    7.0\n",
            "5441      4356.0           3    4.0\n",
            "2145      4356.0           3    2.0\n",
            "6989      8712.0           3    2.0\n",
            "8047     21780.0           5    1.0\n",
            "8253    435600.0           4    7.0\n",
            "9720     13068.0           3    9.0\n",
            "8814     10890.0           3    2.0\n",
            "7690     43560.0           3    9.0\n",
            "9220     87120.0           3    4.0\n",
            "2221      4356.0           3    9.0\n",
            "543      43560.0          14    4.0\n",
            "7844      4356.0           3    4.0\n",
            "...          ...         ...    ...\n",
            "6968      4356.0           3    3.0\n",
            "745      21780.0           4    1.0\n",
            "5156      4356.0           3    4.0\n",
            "3429      4356.0           3    3.0\n",
            "5651      8712.0           3    1.0\n",
            "9885     21780.0           3    9.0\n",
            "9270    174240.0          23    7.0\n",
            "10385  1350360.0           3    4.0\n",
            "4640      4356.0           3    9.0\n",
            "5753     21780.0           5    7.0\n",
            "8461     13068.0           3    9.0\n",
            "6458     21780.0           4    9.0\n",
            "3934      4356.0           3    1.0\n",
            "6176      4356.0           3    4.0\n",
            "6904      4356.0          11    7.0\n",
            "1313     43560.0           5    7.0\n",
            "9795    479160.0           5    7.0\n",
            "4102      4356.0           3    1.0\n",
            "4818      4356.0           3    9.0\n",
            "3024      4356.0           4    2.0\n",
            "6537      4356.0           3    9.0\n",
            "9674      4356.0           3    2.0\n",
            "653       8712.0           3    1.0\n",
            "8473     43560.0           3    9.0\n",
            "3886     10890.0           3    1.0\n",
            "2927      4356.0           3    2.0\n",
            "6885      8712.0           4    2.0\n",
            "6639      4356.0           3    1.0\n",
            "7168     30492.0           3    9.0\n",
            "5714     13068.0           5    7.0\n",
            "\n",
            "[2092 rows x 3 columns]\n",
            "(2092, 3)\n"
          ],
          "name": "stdout"
        }
      ]
    },
    {
      "cell_type": "code",
      "metadata": {
        "id": "3bZ9hJ4BBU0d",
        "colab_type": "code",
        "colab": {}
      },
      "source": [
        "# train_features, test_features, train_labels, test_labels = train_test_split(df_X, df_Y, test_size = 0.2)"
      ],
      "execution_count": 0,
      "outputs": []
    },
    {
      "cell_type": "code",
      "metadata": {
        "id": "17odeCvWBU0h",
        "colab_type": "code",
        "outputId": "b806433f-dfe9-4bc7-e968-73943cc59a96",
        "colab": {}
      },
      "source": [
        "print('Training Features Shape:', X_train.shape)\n",
        "print('Training Labels Shape:', y_train.shape)\n",
        "print('Testing Features Shape:', X_test.shape)\n",
        "print('Testing Labels Shape:', y_test.shape)"
      ],
      "execution_count": 0,
      "outputs": [
        {
          "output_type": "stream",
          "text": [
            "Training Features Shape: (8368, 3)\n",
            "Training Labels Shape: (8368,)\n",
            "Testing Features Shape: (2092, 3)\n",
            "Testing Labels Shape: (2092,)\n"
          ],
          "name": "stdout"
        }
      ]
    },
    {
      "cell_type": "code",
      "metadata": {
        "id": "sq_GOGvPBU0p",
        "colab_type": "code",
        "outputId": "c0e98be4-5198-4664-c1f2-156c1392f43c",
        "colab": {}
      },
      "source": [
        "# Instantiate model with 100 decision trees\n",
        "rf = RandomForestRegressor(n_estimators=1000, random_state=None,  min_samples_leaf=6, criterion='mae', \n",
        "                           bootstrap='True', max_depth=None, min_samples_split=2, max_features='auto', \n",
        "                           oob_score=False, n_jobs=1, verbose=0)\n",
        "\n",
        "# Train the model on training data\n",
        "rf.fit(X_train, y_train);\n",
        "\n",
        "\n",
        "# Save the model as a pickle in a file \n",
        "joblib.dump(rf, 'randomForest.pkl') \n"
      ],
      "execution_count": 0,
      "outputs": [
        {
          "output_type": "execute_result",
          "data": {
            "text/plain": [
              "['randomForest.pkl']"
            ]
          },
          "metadata": {
            "tags": []
          },
          "execution_count": 7
        }
      ]
    },
    {
      "cell_type": "code",
      "metadata": {
        "id": "4nW6yQRSBU0u",
        "colab_type": "code",
        "colab": {}
      },
      "source": [
        "# Use the forest's predict method on the test data\n",
        "predictions = rf.predict(X_test)\n",
        "\n",
        "# Calculate the absolute errors\n",
        "errors = abs(predictions.round() - y_test)"
      ],
      "execution_count": 0,
      "outputs": []
    },
    {
      "cell_type": "code",
      "metadata": {
        "id": "XftDLlshBU0z",
        "colab_type": "code",
        "outputId": "eb70feda-4fd4-4b46-d4bf-14c2442cef05",
        "colab": {}
      },
      "source": [
        "# Calculate mean absolute percentage error (MAPE)\n",
        "mape = 100 *(np.mean(errors))/(2*np.mean(y_test))\n",
        "\n",
        "accuracy = 100 - np.mean(mape)\n",
        "\n",
        "print('Accuracy Random Forest:', round(accuracy, 2), '%.')"
      ],
      "execution_count": 0,
      "outputs": [
        {
          "output_type": "stream",
          "text": [
            "Accuracy Random Forest: 83.39 %.\n"
          ],
          "name": "stdout"
        }
      ]
    }
  ]
}